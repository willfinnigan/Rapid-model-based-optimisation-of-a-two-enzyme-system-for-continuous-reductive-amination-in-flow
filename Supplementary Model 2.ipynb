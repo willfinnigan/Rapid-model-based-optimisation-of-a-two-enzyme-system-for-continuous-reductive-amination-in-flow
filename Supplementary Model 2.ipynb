{
 "cells": [
  {
   "cell_type": "code",
   "execution_count": 1,
   "metadata": {},
   "outputs": [],
   "source": [
    "# Uncomment the lines below to install if using google colab\n",
    "# %%capture\n",
    "# !pip install kinetics==1.4.1"
   ]
  },
  {
   "cell_type": "code",
   "execution_count": null,
   "metadata": {},
   "outputs": [],
   "source": [
    "import kinetics\n",
    "import pandas as pd\n",
    "import matplotlib.pyplot as plt\n",
    "from scipy.stats import reciprocal, uniform, norm, lognorm\n",
    "%config InlineBackend.figure_format ='retina'\n",
    "print(kinetics.__version__)"
   ]
  },
  {
   "cell_type": "markdown",
   "metadata": {},
   "source": [
    "## Model setup"
   ]
  },
  {
   "cell_type": "code",
   "execution_count": null,
   "metadata": {
    "colab": {},
    "colab_type": "code",
    "id": "AgFzwbMoxLCr"
   },
   "outputs": [],
   "source": [
    "redam_fwd = kinetics.Ter_seq_redam(kcat=\"redam_kcat\",\n",
    "                                   kma=\"redam_km_nadph\", kmb=\"redam_km_aldehyde\", kmc=\"redam_km_nh2r\",\n",
    "                                   kia=\"redam_ki_nadph\", kib=\"redam_ki_aldehyde\",\n",
    "                                   enz='redam', a=\"NADPH\", b=\"Aldehyde\", c=\"NH2R\",\n",
    "                                   substrates=[\"NADPH\", \"Aldehyde\", \"NH2R\"],\n",
    "                                   products=[\"NADP+\", \"Amine\", \"H2O\"])\n",
    "\n",
    "redam_fwd.parameter_distributions = {\"redam_kcat\" : (145,185),  \n",
    "                                     \"redam_km_nadph\": (45,135), \n",
    "                                     \"redam_km_aldehyde\" : (84,112),  \n",
    "                                     \"redam_km_nh2r\": (8600,15400), \n",
    "                                     \"redam_ki_nadph\": (150,450), \n",
    "                                     \"redam_ki_aldehyde\": (10,10000)}\n",
    "\n",
    "redam_rev = kinetics.Ter_seq_redam(kcat=\"redam_kcat_rev\",\n",
    "                                   kma=\"redam_km_nadp\", kmb=\"redam_km_amine\", kmc=\"redam_km_h2o\",\n",
    "                                   kia=\"redam_ki_nadp\", kib=\"redam_ki_amine\",\n",
    "                                   enz='redam', a=\"NADP+\", b=\"Amine\", c=\"H2O\",\n",
    "                                   substrates=[\"NADP+\", \"Amine\", \"H2O\"],\n",
    "                                   products=[\"NADPH\", \"Aldehyde\", \"NH2R\"])\n",
    "                                           \n",
    "redam_rev.parameter_distributions = {\"redam_kcat_rev\" : (10,200),\n",
    "                                     \"redam_km_nadp\" : (40,120),\n",
    "                                     \"redam_km_amine\" : (10,10000), \n",
    "                                     \"redam_km_h2o\" : (10,10000), \n",
    "                                     \"redam_ki_nadp\" : (150,450), \n",
    "                                     \"redam_ki_amine\" : (10,10000)}\n",
    "\n",
    "gdh = kinetics.Bi_ternary_complex(kcat='gdh_kcat',\n",
    "                                  kma='gdh_km_nadp',\n",
    "                                  kmb='gdh_km_gluc',\n",
    "                                  kia='gdh_ki_nadp',\n",
    "                                  a='NADP+', b='Glucose', enz='gdh',\n",
    "                                  substrates=['NADP+', 'Glucose'],\n",
    "                                  products=['NADPH', 'GDL'])\n",
    "\n",
    "gdl_hydrolysis = kinetics.FirstOrderRate(k='gdl_hyd', a='GDL',\n",
    "                                         substrates=['GDL'], products=['Gluconic Acid'])\n",
    "\n",
    "gdh.parameter_distributions = {'gdh_kcat': (900,1084),  \n",
    "                               'gdh_km_nadp' : (58, 78), \n",
    "                               'gdh_km_gluc' : (2100, 6300),  \n",
    "                               'gdh_ki_nadp' : (38, 114),\n",
    "                               'gdl_hyd' : (0.48,1.44)}\n",
    "\n",
    "gdh.parameters = {'gdh_kcat': 992,  \n",
    "                  'gdh_km_nadp' : 67, \n",
    "                  'gdh_km_gluc' : 3150,  \n",
    "                  'gdh_ki_nadp' : 76,\n",
    "                  'gdl_hyd' : 0.96}\n",
    "\n",
    "# Set up the model\n",
    "model = kinetics.Model()\n",
    "\n",
    "# Add reactions\n",
    "model.append(redam_fwd)\n",
    "model.append(redam_rev)\n",
    "model.append(gdh)\n",
    "model.append(gdl_hydrolysis)"
   ]
  },
  {
   "cell_type": "code",
   "execution_count": null,
   "metadata": {
    "cellView": "both",
    "colab": {},
    "colab_type": "code",
    "id": "CCKiZQ826jX3",
    "scrolled": true
   },
   "outputs": [],
   "source": [
    "# Set time\n",
    "model.set_time(0, 24*60, 100)\n",
    "\n",
    "# Set starting concentrations with error\n",
    "model.species_distributions = {'redam' : (553, 773.87),   # +5%, -25%\n",
    "                               'gdh' : (60, 84)} # +5%, -25%\n",
    "\n",
    "# Command to prepare model for running.\n",
    "model.setup_model()"
   ]
  },
  {
   "cell_type": "code",
   "execution_count": null,
   "metadata": {},
   "outputs": [],
   "source": [
    "input_substrates_species = {}\n",
    "input_substrates_list = []\n",
    "substrates_list = list(model.species.keys())\n",
    "immobilised = ['redam', 'gdh']\n",
    "\n",
    "substrates_minus_enzymes = []\n",
    "\n",
    "for substrate in substrates_list:\n",
    "    if substrate not in immobilised:  \n",
    "        input_substrates_list.append('input_' + str(substrate))\n",
    "        substrates_minus_enzymes.append(substrate)\n",
    "\n",
    "for substrate in input_substrates_list:\n",
    "    input_substrates_species[substrate] = 0\n",
    "\n",
    "input_substrates_species.update({\"input_H2O\" :55000000,\n",
    "                                 'input_NADP+' : 500,\n",
    "                                 'input_Glucose' : 20000,\n",
    "                                 'input_Aldehyde' : 10000,\n",
    "                                 'input_NH2R' : 15000})"
   ]
  },
  {
   "cell_type": "code",
   "execution_count": null,
   "metadata": {},
   "outputs": [],
   "source": [
    "flow = kinetics.Flow(flow_rate='flow_rate', column_volume='column_volume',\n",
    "                     input_substrates=input_substrates_list, substrates=substrates_minus_enzymes,\n",
    "                     compartment_name='')\n",
    "\n",
    "\n",
    "flow.parameters = ({'flow_rate' : 1,\n",
    "                    'column_volume' : 1})"
   ]
  },
  {
   "cell_type": "code",
   "execution_count": null,
   "metadata": {},
   "outputs": [],
   "source": [
    "model.append(flow)\n",
    "\n",
    "model.species.update(input_substrates_species)\n",
    "\n",
    "model.setup_model();"
   ]
  },
  {
   "cell_type": "markdown",
   "metadata": {},
   "source": [
    "## Run model"
   ]
  },
  {
   "cell_type": "code",
   "execution_count": null,
   "metadata": {},
   "outputs": [],
   "source": [
    "log = [\"redam_ki_aldehyde\", \"redam_km_amine\", \"redam_km_h2o\", \"redam_ki_amine\"]\n",
    "samples = kinetics.sample_uniforms(model, num_samples=1000, log=log)\n",
    "outputs = kinetics.run_all_models(model, samples, logging=True)\n",
    "dataframes = kinetics.dataframes_all_runs(model, outputs)"
   ]
  },
  {
   "cell_type": "code",
   "execution_count": null,
   "metadata": {},
   "outputs": [],
   "source": [
    "df95 = kinetics.dataframes_quartiles(model, outputs)\n",
    "\n",
    "# Plot the confidence intervals\n",
    "kinetics.plot_ci_intervals(['Aldehyde', 'Amine'], df95,\n",
    "                           units=['μM', 'Time (mins)'],\n",
    "                           colours=['darkred', 'darkgreen'],\n",
    "                           alpha=0.1)\n",
    "plt.show()\n",
    "\n",
    "kinetics.plot_ci_intervals(['NADPH', 'NADP+'], df95,\n",
    "                           units=['μM', 'Time (mins)'],\n",
    "                           colours=['darkorange', 'lightblue'],\n",
    "                           alpha=0.1)\n",
    "plt.show()\n",
    "\n",
    "kinetics.plot_ci_intervals(['GDL'], df95,\n",
    "                           units=['μM', 'Time (mins)'],\n",
    "                           colours=['darkblue'],\n",
    "                           alpha=0.1)\n",
    "plt.show()"
   ]
  },
  {
   "cell_type": "markdown",
   "metadata": {},
   "source": [
    "## Metrics"
   ]
  },
  {
   "cell_type": "code",
   "execution_count": null,
   "metadata": {},
   "outputs": [],
   "source": [
    "# Specify MW and initiate the metrics object\n",
    "enzyme_mws = {'gdh' : 31500,\n",
    "              'redam' : 31155}\n",
    "\n",
    "species_mws = {'Aldehyde' : 134.178,\n",
    "               'Amine' : 175.3}\n",
    "\n",
    "metrics = kinetics.Metrics(model,\n",
    "                           substrate='input_Aldehyde',\n",
    "                           product='Amine',\n",
    "                           reaction_volume=1/1000,\n",
    "                           enzyme_mws=enzyme_mws,\n",
    "                           species_mws=species_mws)\n",
    "\n",
    "metrics.refresh_metrics(flow_rate='flow_rate')\n",
    "\n",
    "print(metrics.biocatalyst_productivity())\n",
    "print(metrics.space_time_yield())"
   ]
  },
  {
   "cell_type": "markdown",
   "metadata": {},
   "source": [
    "## Sensitivity analysis"
   ]
  },
  {
   "cell_type": "code",
   "execution_count": null,
   "metadata": {},
   "outputs": [],
   "source": [
    "log = [\"redam_ki_aldehyde\", \"redam_km_amine\", \"redam_km_h2o\", \"redam_ki_amine\"]\n",
    "problem = kinetics.salib_problem(model, log=log)\n",
    "sa_samples = kinetics.make_saltelli_samples(model, problem, 500, second_order=False)"
   ]
  },
  {
   "cell_type": "code",
   "execution_count": null,
   "metadata": {},
   "outputs": [],
   "source": [
    "outputs = kinetics.run_all_models(model, sa_samples)"
   ]
  },
  {
   "cell_type": "code",
   "execution_count": null,
   "metadata": {},
   "outputs": [],
   "source": [
    "timepoint = 60\n",
    "substrate = 'Amine'\n",
    "concs = kinetics.get_concentrations_at_timepoint(model, outputs, timepoint, substrate)\n",
    "sobol = kinetics.analyse_sobal_sensitivity(problem, concs, second_order=False, num_resample=100, conf_level=0.95)"
   ]
  },
  {
   "cell_type": "code",
   "execution_count": null,
   "metadata": {},
   "outputs": [],
   "source": [
    "new_df = kinetics.remove_st_less_than(sobol, column='ST', less_than=0.01)\n",
    "kinetics.plot_sa_total_sensitivity(new_df)\n",
    "plt.show()"
   ]
  },
  {
   "cell_type": "code",
   "execution_count": null,
   "metadata": {},
   "outputs": [],
   "source": []
  }
 ],
 "metadata": {
  "kernelspec": {
   "display_name": "Python 3",
   "language": "python",
   "name": "python3"
  },
  "language_info": {
   "codemirror_mode": {
    "name": "ipython",
    "version": 3
   },
   "file_extension": ".py",
   "mimetype": "text/x-python",
   "name": "python",
   "nbconvert_exporter": "python",
   "pygments_lexer": "ipython3",
   "version": "3.7.3"
  }
 },
 "nbformat": 4,
 "nbformat_minor": 2
}
